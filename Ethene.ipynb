{
 "cells": [
  {
   "cell_type": "code",
   "execution_count": 15,
   "id": "214195de-f4a4-4c1e-8bdc-0a4f406248e4",
   "metadata": {},
   "outputs": [],
   "source": [
    "from qiskit import Aer\n",
    "from qiskit_nature.drivers import UnitsType, Molecule # PySCFDriver\n",
    "from qiskit_nature.drivers.second_quantization import PySCFDriver, MethodType\n",
    "from qiskit_nature.problems.second_quantization.electronic import ElectronicStructureProblem\n",
    "from qiskit_nature.mappers.second_quantization import JordanWignerMapper\n",
    "from qiskit_nature.converters.second_quantization import QubitConverter\n",
    "from qiskit_nature.transformers.second_quantization.electronic import ActiveSpaceTransformer\n",
    "from qiskit_nature.algorithms import GroundStateEigensolver, BOPESSampler\n",
    "from qiskit.algorithms import NumPyMinimumEigensolver\n",
    "from qiskit_nature.algorithms.pes_samplers import EnergySurface1DSpline\n",
    "\n",
    "from qiskit.utils import QuantumInstance, algorithm_globals\n",
    "\n",
    "from qiskit_nature.circuit.library.ansatzes import UCCSD\n",
    "from qiskit_nature.circuit.library.initial_states import HartreeFock\n",
    "from qiskit.circuit.library import TwoLocal\n",
    "\n",
    "from qiskit.algorithms import VQE\n",
    "from qiskit.algorithms.optimizers import COBYLA, L_BFGS_B, SLSQP\n",
    "\n",
    "import numpy as np\n",
    "from functools import partial as pair_variation\n",
    "import matplotlib.pyplot as plt\n",
    "\n",
    "from qiskit import IBMQ, assemble, transpile"
   ]
  },
  {
   "cell_type": "code",
   "execution_count": 16,
   "id": "0fded9db-57a8-450e-b22c-9f461956ad7e",
   "metadata": {},
   "outputs": [],
   "source": [
    "from qiskit_nature.problems.second_quantization import ElectronicStructureProblem\n",
    "from qiskit_nature.drivers.second_quantization import (\n",
    "    ElectronicStructureDriverType,\n",
    "    ElectronicStructureMoleculeDriver,\n",
    ")"
   ]
  },
  {
   "cell_type": "code",
   "execution_count": 17,
   "id": "e7cc9a7c-7fc4-48f5-8141-77295dfafba0",
   "metadata": {},
   "outputs": [],
   "source": [
    "variation = Molecule.absolute_stretching\n",
    "variation = Molecule.absolute_distance\n",
    "specific_variation = pair_variation(variation, atom_pair=(1, 0))\n",
    "\n",
    "ethene = Molecule(geometry=\n",
    "                    [['C', [-0.654, 0.034, 0.]],\n",
    "                     ['C', [0.654, -0.034, 0.]],\n",
    "                     ['H', [-1.149, 1.005, 0.]],\n",
    "                     ['H', [-1.247, -0.880, 0.]],\n",
    "                     ['H', [1.247, 0.880, 0.]],\n",
    "                     ['H', [1.149, -1.005, 0.]]],\n",
    "                     charge=0,degrees_of_freedom=[specific_variation], multiplicity=1,\n",
    "                      masses=[1.99442348e-26, 1.99442348e-26, 1.6735328e-27, 1.6735328e-27, 1.6735328e-27, 1.6735328e-27])\n",
    "\n",
    "H = Molecule(geometry=\n",
    "             [['H', [0., 0., 0.2]],\n",
    "              ['H', [0., 0., 0.]]],\n",
    "             degrees_of_freedom=[specific_variation],\n",
    "             masses=[1.6735328e-27, 1.6735328e-27])"
   ]
  },
  {
   "cell_type": "code",
   "execution_count": 4,
   "id": "04ee6341-d742-45d5-81e9-d51ee15fa491",
   "metadata": {},
   "outputs": [
    {
     "name": "stderr",
     "output_type": "stream",
     "text": [
      "/tmp/ipykernel_140/4063947443.py:13: DeprecationWarning: __init__ keyword argument gss is deprecated and replaced with state_solver.\n",
      "  bs = BOPESSampler(gss=me_gss, bootstrap=True)\n"
     ]
    },
    {
     "data": {
      "text/plain": [
       "Text(0, 0.5, 'Energy')"
      ]
     },
     "execution_count": 4,
     "metadata": {},
     "output_type": "execute_result"
    },
    {
     "data": {
      "image/png": "[encoded data removed]",
      "text/plain": [
       "<Figure size 432x288 with 1 Axes>"
      ]
     },
     "metadata": {
      "needs_background": "light"
     },
     "output_type": "display_data"
    }
   ],
   "source": [
    "qubit_converter = QubitConverter(mapper=JordanWignerMapper())\n",
    "quantum_instance = QuantumInstance(backend=Aer.get_backend(\"aer_simulator_statevector\"))\n",
    "solver = VQE(quantum_instance=quantum_instance)\n",
    "\n",
    "me_gss = GroundStateEigensolver(qubit_converter, solver)\n",
    "\n",
    "\n",
    "driver = ElectronicStructureMoleculeDriver(H, driver_type=ElectronicStructureDriverType.PYSCF)\n",
    "\n",
    "es_problem = ElectronicStructureProblem(driver)\n",
    "\n",
    "\n",
    "bs = BOPESSampler(gss=me_gss, bootstrap=True)\n",
    "points = np.linspace(0.45, 5, 50)\n",
    "res = bs.sample(es_problem, points)\n",
    "\n",
    "energies = []\n",
    "bs_res_full = res.raw_results\n",
    "for point in points:\n",
    "    energy = bs_res_full[point].computed_energies + bs_res_full[point].nuclear_repulsion_energy\n",
    "    energies.append(energy)\n",
    "    \n",
    "#result = ground_state.solve(es_problem)\n",
    "#print(result)\n",
    "\n",
    "fig = plt.figure()\n",
    "plt.plot(points, energies)\n",
    "plt.title(\"Dissociation profile\")\n",
    "plt.xlabel(\"Interatomic distance\")\n",
    "plt.ylabel(\"Energy\")"
   ]
  },
  {
   "cell_type": "code",
   "execution_count": 5,
   "id": "9df0e999-530f-4085-ad2c-95c0ae1174a1",
   "metadata": {},
   "outputs": [
    {
     "name": "stdout",
     "output_type": "stream",
     "text": [
      "=== GROUND STATE ENERGY ===\n",
      " \n",
      "* Electronic ground state energy (Hartree): -1.038997502681\n",
      "  - computed part:      -1.038997502681\n",
      "~ Nuclear repulsion energy (Hartree): 0.105835442184\n",
      "> Total ground state energy (Hartree): -0.933162060497\n",
      " \n",
      "=== MEASURED OBSERVABLES ===\n",
      " \n",
      "  0:  # Particles: 2.000 S: 0.000 S^2: 0.000 M: -0.000\n",
      " \n",
      "=== DIPOLE MOMENTS ===\n",
      " \n",
      "~ Nuclear dipole moment (a.u.): [0.0  0.0  -8.69274017]\n",
      " \n",
      "  0: \n",
      "  * Electronic dipole moment (a.u.): [0.0  0.0  -8.69274351]\n",
      "    - computed part:      [0.0  0.0  -8.69274351]\n",
      "  > Dipole moment (a.u.): [0.0  0.0  0.00000334]  Total: 0.00000334\n",
      "                 (debye): [0.0  0.0  0.00000849]  Total: 0.00000849\n",
      " \n"
     ]
    }
   ],
   "source": [
    "result = me_gss.solve(es_problem)\n",
    "print(result)"
   ]
  },
  {
   "cell_type": "code",
   "execution_count": 36,
   "id": "f84f265c-3fa9-4952-88f0-947e13944ee7",
   "metadata": {},
   "outputs": [
    {
     "name": "stdout",
     "output_type": "stream",
     "text": [
      "Fermionic Operator\n",
      "register length=6, number terms=342\n",
      "  -1.2730831577135193 * ( +_0 -_0 )\n",
      "+ 1.5281217689996686e-05 * ( +_0 -_1 )\n",
      "+ 5.212623335086404e-05 * ( +_0 -_2 )\n",
      "+ 1.5281217690016554e-05 * ( +_1 -_0 )\n",
      "+ -1.21635675689781 * ( +_1 -_1 )\n",
      "+ 0.019687 ...\n"
     ]
    }
   ],
   "source": [
    "import os\n",
    "MAX_MEMORY = int (os.environ.get ('MAX_MEMORY', 80000))## Memory in MB\n",
    "\n",
    "# Structure the problem\n",
    "#driver = PySCFDriver(molecule=ethene, unit=UnitsType.ANGSTROM, basis='sto3g', method=MethodType.RHF, max_memory=MAX_MEMORY) # Ethene\n",
    "driver = ElectronicStructureMoleculeDriver(molecule=ethene, driver_type=ElectronicStructureDriverType.PYSCF)\n",
    "transformer = ActiveSpaceTransformer(num_electrons=4, num_molecular_orbitals=4, active_orbitals=None) # 4, 4\n",
    "fermonic_hamiltonian = ElectronicStructureProblem(driver, transformers=[transformer]) # [transformer]\n",
    "\n",
    "# Parity mapper to reduce qubits required\n",
    "fermonic_hamiltonian.second_q_ops()\n",
    "main_op = fermonic_hamiltonian.second_q_ops()[0]\n",
    "print(main_op)"
   ]
  },
  {
   "cell_type": "code",
   "execution_count": 37,
   "id": "b475e7cd-aafa-41ec-aadb-39efdb93108b",
   "metadata": {},
   "outputs": [],
   "source": [
    "# Qubit converter (operator --> qubits)\n",
    "fermions_to_q = QubitConverter(mapper=JordanWignerMapper(), two_qubit_reduction=True)\n",
    "\n",
    "# Operator mapped to qubits\n",
    "particles = fermonic_hamiltonian.num_particles\n",
    "\n",
    "#(fermonic_hamiltonian.molecule_data_transformed.num_alpha,\n",
    "#             fermonic_hamiltonian.molecule_data_transformed.num_beta)\n",
    "qubit_op = fermions_to_q.convert(main_op, num_particles=particles)"
   ]
  },
  {
   "cell_type": "code",
   "execution_count": 38,
   "id": "00997e88-9367-46d6-b0f6-bb0a8afc7a7f",
   "metadata": {},
   "outputs": [],
   "source": [
    "spin_orbitals = fermonic_hamiltonian.num_spin_orbitals\n",
    "HF_state = HartreeFock(spin_orbitals, particles, fermions_to_q)\n",
    "var_form = UCCSD(\n",
    "        qubit_converter=fermions_to_q, \n",
    "    num_particles=particles, \n",
    "    num_spin_orbitals=spin_orbitals, \n",
    "    reps=3, \n",
    "    initial_state=HF_state)"
   ]
  },
  {
   "cell_type": "code",
   "execution_count": 39,
   "id": "e375150e-9cdb-46a3-90ef-f6c0497b8ec2",
   "metadata": {},
   "outputs": [],
   "source": [
    "hardware_trial = TwoLocal(num_qubits=qubit_op.num_qubits, rotation_blocks = ['h', 'rx'], entanglement_blocks = 'cx',\n",
    "                                   entanglement='full', reps=3, skip_unentangled_qubits=False, skip_final_rotation_layer=True)    "
   ]
  },
  {
   "cell_type": "code",
   "execution_count": 42,
   "id": "f35090ca-333c-43ce-809e-cf750203e87c",
   "metadata": {},
   "outputs": [],
   "source": [
    "#quantum_instance = QuantumInstance(backend=Aer.get_backend(\"statevector_simulator\"))\n",
    "quantum_instance = QuantumInstance(backend=IBMQ.get_provider(hub='ibm-q').get_backend('ibm_oslo'))\n",
    "vqe = VQE(ansatz=hardware_trial, optimizer=COBYLA(maxiter=80), quantum_instance=quantum_instance)\n",
    "ground_state = GroundStateEigensolver(fermions_to_q, vqe)"
   ]
  },
  {
   "cell_type": "code",
   "execution_count": null,
   "id": "ad6766ef-83ad-404a-8873-0dbf2bc3f76a",
   "metadata": {},
   "outputs": [],
   "source": [
    "bs = BOPESSampler(gss=ground_state, bootstrap=True) #ground_state\n",
    "points = np.linspace(0.45, 5, 50)\n",
    "res = bs.sample(fermonic_hamiltonian, points)"
   ]
  },
  {
   "cell_type": "code",
   "execution_count": null,
   "id": "4e340344-df11-4c02-b50c-b03dd8f0e813",
   "metadata": {},
   "outputs": [],
   "source": [
    "result = ground_state.solve(fermonic_hamiltonian)\n",
    "print(result)"
   ]
  },
  {
   "cell_type": "code",
   "execution_count": null,
   "id": "cfbc5ab5-98b6-4b3a-9d2a-f35ab337d0fe",
   "metadata": {},
   "outputs": [],
   "source": [
    "energies = []\n",
    "bs_res_full = res.raw_results\n",
    "for point in points:\n",
    "    energy = bs_res_full[point].computed_energies + bs_res_full[point].nuclear_repulsion_energy\n",
    "    energies.append(energy)"
   ]
  },
  {
   "cell_type": "code",
   "execution_count": null,
   "id": "3019e470-8618-429e-8e3a-8ad077da0b42",
   "metadata": {},
   "outputs": [],
   "source": [
    "fig = plt.figure()\n",
    "plt.plot(points, energies)\n",
    "plt.title(\"Dissociation profile\")\n",
    "plt.xlabel(\"Interatomic distance\")\n",
    "plt.ylabel(\"Energy\")"
   ]
  },
  {
   "cell_type": "code",
   "execution_count": null,
   "id": "acfdd426-5663-423e-8f36-790f83eccd21",
   "metadata": {},
   "outputs": [],
   "source": [
    "energy_surface = EnergySurface1DSpline()\n",
    "\n",
    "xdata = res.points\n",
    "ydata = res.energies\n",
    "energy_surface.fit(xdata=xdata, ydata=ydata)"
   ]
  },
  {
   "cell_type": "code",
   "execution_count": null,
   "id": "db267b82-616c-4863-b5b0-969669570c92",
   "metadata": {},
   "outputs": [],
   "source": [
    "plt.plot(xdata, ydata, \"kx\")\n",
    "x = np.arange(min(xdata) - 0.25, max(xdata) + 0.25, 0.05)\n",
    "plt.plot(x, energy_surface.eval(x), \"r-\")\n",
    "plt.xlabel(r\"distance, $\\AA$\")\n",
    "plt.ylabel(\"energy, Hartree\")\n",
    "dist = max(ydata) - min(ydata)\n",
    "plt.ylim(min(ydata) - 0.1 * dist, max(ydata) + 0.1 * dist)"
   ]
  },
  {
   "cell_type": "code",
   "execution_count": null,
   "id": "ffbb6950-80b8-41d3-934a-ecad54c1519f",
   "metadata": {},
   "outputs": [],
   "source": [
    "minimum = min(ydata)\n",
    "print(minimum)\n",
    "xmin = ydata.index(minimum)\n",
    "print(xdata[xmin])\n",
    "print(xdata)"
   ]
  }
 ],
 "metadata": {
  "kernelspec": {
   "display_name": "Python 3 (ipykernel)",
   "language": "python",
   "name": "python3"
  },
  "language_info": {
   "codemirror_mode": {
    "name": "ipython",
    "version": 3
   },
   "file_extension": ".py",
   "mimetype": "text/x-python",
   "name": "python",
   "nbconvert_exporter": "python",
   "pygments_lexer": "ipython3",
   "version": "3.8.13"
  },
  "widgets": {
   "application/vnd.jupyter.widget-state+json": {
    "state": {},
    "version_major": 2,
    "version_minor": 0
   }
  }
 },
 "nbformat": 4,
 "nbformat_minor": 5
}
